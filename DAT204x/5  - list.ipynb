{
 "cells": [
  {
   "cell_type": "markdown",
   "metadata": {},
   "source": [
    "# Module 5 | List"
   ]
  },
  {
   "cell_type": "markdown",
   "metadata": {},
   "source": [
    "### Create and Name List"
   ]
  },
  {
   "cell_type": "code",
   "execution_count": 2,
   "metadata": {},
   "outputs": [],
   "source": [
    "r_list <- list(\"R is fun\", 4, 4)"
   ]
  },
  {
   "cell_type": "code",
   "execution_count": 3,
   "metadata": {},
   "outputs": [],
   "source": [
    "names(r_list) <- c(\"name\", \"course\", \"rating\")"
   ]
  },
  {
   "cell_type": "code",
   "execution_count": 4,
   "metadata": {},
   "outputs": [
    {
     "data": {
      "text/html": [
       "<dl>\n",
       "\t<dt>$name</dt>\n",
       "\t\t<dd>'R is fun'</dd>\n",
       "\t<dt>$course</dt>\n",
       "\t\t<dd>4</dd>\n",
       "\t<dt>$rating</dt>\n",
       "\t\t<dd>4</dd>\n",
       "</dl>\n"
      ],
      "text/latex": [
       "\\begin{description}\n",
       "\\item[\\$name] 'R is fun'\n",
       "\\item[\\$course] 4\n",
       "\\item[\\$rating] 4\n",
       "\\end{description}\n"
      ],
      "text/markdown": [
       "$name\n",
       ":   'R is fun'\n",
       "$course\n",
       ":   4\n",
       "$rating\n",
       ":   4\n",
       "\n",
       "\n"
      ],
      "text/plain": [
       "$name\n",
       "[1] \"R is fun\"\n",
       "\n",
       "$course\n",
       "[1] 4\n",
       "\n",
       "$rating\n",
       "[1] 4\n"
      ]
     },
     "metadata": {},
     "output_type": "display_data"
    }
   ],
   "source": [
    "r_list"
   ]
  },
  {
   "cell_type": "markdown",
   "metadata": {},
   "source": [
    "### Subset and Extend List"
   ]
  },
  {
   "cell_type": "code",
   "execution_count": 5,
   "metadata": {},
   "outputs": [
    {
     "data": {
      "text/html": [
       "<strong>$name</strong> = 'R is fun'"
      ],
      "text/latex": [
       "\\textbf{\\$name} = 'R is fun'"
      ],
      "text/markdown": [
       "**$name** = 'R is fun'"
      ],
      "text/plain": [
       "$name\n",
       "[1] \"R is fun\"\n"
      ]
     },
     "metadata": {},
     "output_type": "display_data"
    }
   ],
   "source": [
    "r_list[1]"
   ]
  },
  {
   "cell_type": "code",
   "execution_count": 6,
   "metadata": {},
   "outputs": [
    {
     "data": {
      "text/html": [
       "'R is fun'"
      ],
      "text/latex": [
       "'R is fun'"
      ],
      "text/markdown": [
       "'R is fun'"
      ],
      "text/plain": [
       "[1] \"R is fun\""
      ]
     },
     "metadata": {},
     "output_type": "display_data"
    }
   ],
   "source": [
    "r_list[[1]]         # Grab one element only"
   ]
  },
  {
   "cell_type": "code",
   "execution_count": 7,
   "metadata": {},
   "outputs": [
    {
     "data": {
      "text/html": [
       "4"
      ],
      "text/latex": [
       "4"
      ],
      "text/markdown": [
       "4"
      ],
      "text/plain": [
       "[1] 4"
      ]
     },
     "metadata": {},
     "output_type": "display_data"
    }
   ],
   "source": [
    "r_list$rating       # Grab one element by name"
   ]
  },
  {
   "cell_type": "code",
   "execution_count": null,
   "metadata": {},
   "outputs": [],
   "source": []
  }
 ],
 "metadata": {
  "kernelspec": {
   "display_name": "R",
   "language": "R",
   "name": "python3812jvsc74a57bd0f061cc7ac73d0c3a0547232dedc70a315866e232463552a237d6390eda146b86"
  },
  "language_info": {
   "codemirror_mode": "r",
   "file_extension": ".r",
   "mimetype": "text/x-r-source",
   "name": "R",
   "pygments_lexer": "r",
   "version": "3.6.3"
  },
  "orig_nbformat": 4
 },
 "nbformat": 4,
 "nbformat_minor": 2
}
