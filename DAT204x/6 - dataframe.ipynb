{
 "cells": [
  {
   "cell_type": "markdown",
   "metadata": {},
   "source": [
    "# Module 6 | Data Frame"
   ]
  },
  {
   "cell_type": "markdown",
   "metadata": {},
   "source": [
    "### Creating a Data Frame"
   ]
  },
  {
   "cell_type": "code",
   "execution_count": 1,
   "metadata": {},
   "outputs": [],
   "source": [
    "name <- c(\"Abu\", \"Ali\", \"Siti\")\n",
    "age <- c(20, 30, 20)"
   ]
  },
  {
   "cell_type": "code",
   "execution_count": 2,
   "metadata": {},
   "outputs": [],
   "source": [
    "df <- data.frame(name, age)"
   ]
  },
  {
   "cell_type": "code",
   "execution_count": 3,
   "metadata": {},
   "outputs": [
    {
     "data": {
      "text/html": [
       "<table>\n",
       "<thead><tr><th scope=col>name</th><th scope=col>age</th></tr></thead>\n",
       "<tbody>\n",
       "\t<tr><td>Abu </td><td>20  </td></tr>\n",
       "\t<tr><td>Ali </td><td>30  </td></tr>\n",
       "\t<tr><td>Siti</td><td>20  </td></tr>\n",
       "</tbody>\n",
       "</table>\n"
      ],
      "text/latex": [
       "\\begin{tabular}{r|ll}\n",
       " name & age\\\\\n",
       "\\hline\n",
       "\t Abu  & 20  \\\\\n",
       "\t Ali  & 30  \\\\\n",
       "\t Siti & 20  \\\\\n",
       "\\end{tabular}\n"
      ],
      "text/markdown": [
       "\n",
       "| name | age |\n",
       "|---|---|\n",
       "| Abu  | 20   |\n",
       "| Ali  | 30   |\n",
       "| Siti | 20   |\n",
       "\n"
      ],
      "text/plain": [
       "  name age\n",
       "1 Abu  20 \n",
       "2 Ali  30 \n",
       "3 Siti 20 "
      ]
     },
     "metadata": {},
     "output_type": "display_data"
    }
   ],
   "source": [
    "df"
   ]
  },
  {
   "cell_type": "code",
   "execution_count": 4,
   "metadata": {},
   "outputs": [],
   "source": [
    "df_with_name <- data.frame(Names = name, Age = age)"
   ]
  },
  {
   "cell_type": "code",
   "execution_count": 5,
   "metadata": {},
   "outputs": [
    {
     "data": {
      "text/html": [
       "<table>\n",
       "<thead><tr><th scope=col>Names</th><th scope=col>Age</th></tr></thead>\n",
       "<tbody>\n",
       "\t<tr><td>Abu </td><td>20  </td></tr>\n",
       "\t<tr><td>Ali </td><td>30  </td></tr>\n",
       "\t<tr><td>Siti</td><td>20  </td></tr>\n",
       "</tbody>\n",
       "</table>\n"
      ],
      "text/latex": [
       "\\begin{tabular}{r|ll}\n",
       " Names & Age\\\\\n",
       "\\hline\n",
       "\t Abu  & 20  \\\\\n",
       "\t Ali  & 30  \\\\\n",
       "\t Siti & 20  \\\\\n",
       "\\end{tabular}\n"
      ],
      "text/markdown": [
       "\n",
       "| Names | Age |\n",
       "|---|---|\n",
       "| Abu  | 20   |\n",
       "| Ali  | 30   |\n",
       "| Siti | 20   |\n",
       "\n"
      ],
      "text/plain": [
       "  Names Age\n",
       "1 Abu   20 \n",
       "2 Ali   30 \n",
       "3 Siti  20 "
      ]
     },
     "metadata": {},
     "output_type": "display_data"
    }
   ],
   "source": [
    "df_with_name"
   ]
  },
  {
   "cell_type": "code",
   "execution_count": 6,
   "metadata": {},
   "outputs": [
    {
     "name": "stdout",
     "output_type": "stream",
     "text": [
      "'data.frame':\t3 obs. of  2 variables:\n",
      " $ name: Factor w/ 3 levels \"Abu\",\"Ali\",\"Siti\": 1 2 3\n",
      " $ age : num  20 30 20\n"
     ]
    }
   ],
   "source": [
    "str(df)"
   ]
  },
  {
   "cell_type": "code",
   "execution_count": 7,
   "metadata": {},
   "outputs": [],
   "source": [
    "df_with_name <- data.frame(Names = name, Age = age, stringsAsFactors = FALSE)"
   ]
  },
  {
   "cell_type": "code",
   "execution_count": 8,
   "metadata": {},
   "outputs": [
    {
     "data": {
      "text/html": [
       "<table>\n",
       "<thead><tr><th scope=col>Names</th><th scope=col>Age</th></tr></thead>\n",
       "<tbody>\n",
       "\t<tr><td>Abu </td><td>20  </td></tr>\n",
       "\t<tr><td>Ali </td><td>30  </td></tr>\n",
       "\t<tr><td>Siti</td><td>20  </td></tr>\n",
       "</tbody>\n",
       "</table>\n"
      ],
      "text/latex": [
       "\\begin{tabular}{r|ll}\n",
       " Names & Age\\\\\n",
       "\\hline\n",
       "\t Abu  & 20  \\\\\n",
       "\t Ali  & 30  \\\\\n",
       "\t Siti & 20  \\\\\n",
       "\\end{tabular}\n"
      ],
      "text/markdown": [
       "\n",
       "| Names | Age |\n",
       "|---|---|\n",
       "| Abu  | 20   |\n",
       "| Ali  | 30   |\n",
       "| Siti | 20   |\n",
       "\n"
      ],
      "text/plain": [
       "  Names Age\n",
       "1 Abu   20 \n",
       "2 Ali   30 \n",
       "3 Siti  20 "
      ]
     },
     "metadata": {},
     "output_type": "display_data"
    }
   ],
   "source": [
    "df_with_name"
   ]
  },
  {
   "cell_type": "code",
   "execution_count": 9,
   "metadata": {},
   "outputs": [
    {
     "name": "stdout",
     "output_type": "stream",
     "text": [
      "'data.frame':\t3 obs. of  2 variables:\n",
      " $ Names: chr  \"Abu\" \"Ali\" \"Siti\"\n",
      " $ Age  : num  20 30 20\n"
     ]
    }
   ],
   "source": [
    "str(df_with_name)"
   ]
  },
  {
   "cell_type": "markdown",
   "metadata": {},
   "source": [
    "### Subset, extend and sort data frame"
   ]
  },
  {
   "cell_type": "code",
   "execution_count": 10,
   "metadata": {},
   "outputs": [
    {
     "data": {
      "text/html": [
       "30"
      ],
      "text/latex": [
       "30"
      ],
      "text/markdown": [
       "30"
      ],
      "text/plain": [
       "[1] 30"
      ]
     },
     "metadata": {},
     "output_type": "display_data"
    }
   ],
   "source": [
    "df[2, 2]"
   ]
  },
  {
   "cell_type": "code",
   "execution_count": 11,
   "metadata": {},
   "outputs": [
    {
     "data": {
      "text/html": [
       "<table>\n",
       "<thead><tr><th scope=col>age</th></tr></thead>\n",
       "<tbody>\n",
       "\t<tr><td>20</td></tr>\n",
       "\t<tr><td>30</td></tr>\n",
       "\t<tr><td>20</td></tr>\n",
       "</tbody>\n",
       "</table>\n"
      ],
      "text/latex": [
       "\\begin{tabular}{r|l}\n",
       " age\\\\\n",
       "\\hline\n",
       "\t 20\\\\\n",
       "\t 30\\\\\n",
       "\t 20\\\\\n",
       "\\end{tabular}\n"
      ],
      "text/markdown": [
       "\n",
       "| age |\n",
       "|---|\n",
       "| 20 |\n",
       "| 30 |\n",
       "| 20 |\n",
       "\n"
      ],
      "text/plain": [
       "  age\n",
       "1 20 \n",
       "2 30 \n",
       "3 20 "
      ]
     },
     "metadata": {},
     "output_type": "display_data"
    }
   ],
   "source": [
    "df[2]"
   ]
  },
  {
   "cell_type": "code",
   "execution_count": 13,
   "metadata": {},
   "outputs": [
    {
     "data": {
      "text/html": [
       "<table>\n",
       "<thead><tr><th scope=col>name</th></tr></thead>\n",
       "<tbody>\n",
       "\t<tr><td>Abu </td></tr>\n",
       "\t<tr><td>Ali </td></tr>\n",
       "\t<tr><td>Siti</td></tr>\n",
       "</tbody>\n",
       "</table>\n"
      ],
      "text/latex": [
       "\\begin{tabular}{r|l}\n",
       " name\\\\\n",
       "\\hline\n",
       "\t Abu \\\\\n",
       "\t Ali \\\\\n",
       "\t Siti\\\\\n",
       "\\end{tabular}\n"
      ],
      "text/markdown": [
       "\n",
       "| name |\n",
       "|---|\n",
       "| Abu  |\n",
       "| Ali  |\n",
       "| Siti |\n",
       "\n"
      ],
      "text/plain": [
       "  name\n",
       "1 Abu \n",
       "2 Ali \n",
       "3 Siti"
      ]
     },
     "metadata": {},
     "output_type": "display_data"
    }
   ],
   "source": [
    "df[\"name\"]"
   ]
  },
  {
   "cell_type": "code",
   "execution_count": 14,
   "metadata": {},
   "outputs": [
    {
     "data": {
      "text/html": [
       "<ol class=list-inline>\n",
       "\t<li>20</li>\n",
       "\t<li>30</li>\n",
       "\t<li>20</li>\n",
       "</ol>\n"
      ],
      "text/latex": [
       "\\begin{enumerate*}\n",
       "\\item 20\n",
       "\\item 30\n",
       "\\item 20\n",
       "\\end{enumerate*}\n"
      ],
      "text/markdown": [
       "1. 20\n",
       "2. 30\n",
       "3. 20\n",
       "\n",
       "\n"
      ],
      "text/plain": [
       "[1] 20 30 20"
      ]
     },
     "metadata": {},
     "output_type": "display_data"
    }
   ],
   "source": [
    "df$age"
   ]
  },
  {
   "cell_type": "code",
   "execution_count": 19,
   "metadata": {},
   "outputs": [],
   "source": [
    "height <- c(20, 20, 20)"
   ]
  },
  {
   "cell_type": "code",
   "execution_count": 20,
   "metadata": {},
   "outputs": [],
   "source": [
    "df[\"height\"] <- height"
   ]
  },
  {
   "cell_type": "code",
   "execution_count": 21,
   "metadata": {},
   "outputs": [
    {
     "data": {
      "text/html": [
       "<table>\n",
       "<thead><tr><th scope=col>name</th><th scope=col>age</th><th scope=col>height</th></tr></thead>\n",
       "<tbody>\n",
       "\t<tr><td>Abu </td><td>20  </td><td>20  </td></tr>\n",
       "\t<tr><td>Ali </td><td>30  </td><td>20  </td></tr>\n",
       "\t<tr><td>Siti</td><td>20  </td><td>20  </td></tr>\n",
       "</tbody>\n",
       "</table>\n"
      ],
      "text/latex": [
       "\\begin{tabular}{r|lll}\n",
       " name & age & height\\\\\n",
       "\\hline\n",
       "\t Abu  & 20   & 20  \\\\\n",
       "\t Ali  & 30   & 20  \\\\\n",
       "\t Siti & 20   & 20  \\\\\n",
       "\\end{tabular}\n"
      ],
      "text/markdown": [
       "\n",
       "| name | age | height |\n",
       "|---|---|---|\n",
       "| Abu  | 20   | 20   |\n",
       "| Ali  | 30   | 20   |\n",
       "| Siti | 20   | 20   |\n",
       "\n"
      ],
      "text/plain": [
       "  name age height\n",
       "1 Abu  20  20    \n",
       "2 Ali  30  20    \n",
       "3 Siti 20  20    "
      ]
     },
     "metadata": {},
     "output_type": "display_data"
    }
   ],
   "source": [
    "df"
   ]
  },
  {
   "cell_type": "code",
   "execution_count": 22,
   "metadata": {},
   "outputs": [
    {
     "data": {
      "text/html": [
       "<ol class=list-inline>\n",
       "\t<li>20</li>\n",
       "\t<li>20</li>\n",
       "\t<li>30</li>\n",
       "</ol>\n"
      ],
      "text/latex": [
       "\\begin{enumerate*}\n",
       "\\item 20\n",
       "\\item 20\n",
       "\\item 30\n",
       "\\end{enumerate*}\n"
      ],
      "text/markdown": [
       "1. 20\n",
       "2. 20\n",
       "3. 30\n",
       "\n",
       "\n"
      ],
      "text/plain": [
       "[1] 20 20 30"
      ]
     },
     "metadata": {},
     "output_type": "display_data"
    }
   ],
   "source": [
    "sort(df$age)"
   ]
  },
  {
   "cell_type": "code",
   "execution_count": 23,
   "metadata": {},
   "outputs": [],
   "source": [
    "ranks <- order(df$age)"
   ]
  }
 ],
 "metadata": {
  "kernelspec": {
   "display_name": "R",
   "language": "R",
   "name": "python3812jvsc74a57bd0f061cc7ac73d0c3a0547232dedc70a315866e232463552a237d6390eda146b86"
  },
  "language_info": {
   "codemirror_mode": "r",
   "file_extension": ".r",
   "mimetype": "text/x-r-source",
   "name": "R",
   "pygments_lexer": "r",
   "version": "3.6.3"
  },
  "orig_nbformat": 4
 },
 "nbformat": 4,
 "nbformat_minor": 2
}
