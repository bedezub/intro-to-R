{
 "cells": [
  {
   "cell_type": "markdown",
   "metadata": {},
   "source": [
    "## Tutorial Topic 1 and Topic 2\n",
    "\n",
    "Author: bedezub\n"
   ]
  },
  {
   "cell_type": "markdown",
   "metadata": {},
   "source": [
    "Question 1"
   ]
  },
  {
   "cell_type": "code",
   "execution_count": 3,
   "metadata": {},
   "outputs": [],
   "source": [
    "data <- c(24, 45, 61, 51, 82)"
   ]
  },
  {
   "cell_type": "markdown",
   "metadata": {},
   "source": [
    "mean of data"
   ]
  },
  {
   "cell_type": "code",
   "execution_count": 4,
   "metadata": {},
   "outputs": [],
   "source": [
    "average_data <- mean(data)"
   ]
  },
  {
   "cell_type": "code",
   "execution_count": 5,
   "metadata": {},
   "outputs": [
    {
     "data": {
      "text/html": [
       "52.6"
      ],
      "text/latex": [
       "52.6"
      ],
      "text/markdown": [
       "52.6"
      ],
      "text/plain": [
       "[1] 52.6"
      ]
     },
     "metadata": {},
     "output_type": "display_data"
    }
   ],
   "source": [
    "average_data"
   ]
  },
  {
   "cell_type": "markdown",
   "metadata": {},
   "source": [
    "fourth position"
   ]
  },
  {
   "cell_type": "code",
   "execution_count": 6,
   "metadata": {},
   "outputs": [
    {
     "data": {
      "text/html": [
       "51"
      ],
      "text/latex": [
       "51"
      ],
      "text/markdown": [
       "51"
      ],
      "text/plain": [
       "[1] 51"
      ]
     },
     "metadata": {},
     "output_type": "display_data"
    }
   ],
   "source": [
    "data[4]"
   ]
  },
  {
   "cell_type": "markdown",
   "metadata": {},
   "source": [
    "combine two dataset"
   ]
  },
  {
   "cell_type": "code",
   "execution_count": 9,
   "metadata": {},
   "outputs": [],
   "source": [
    "z <- c(\"A\", \"B\", \"B\", \"D\", \"M\")"
   ]
  },
  {
   "cell_type": "code",
   "execution_count": 21,
   "metadata": {},
   "outputs": [],
   "source": [
    "data_bb <- cbind(data, z)"
   ]
  },
  {
   "cell_type": "code",
   "execution_count": 22,
   "metadata": {},
   "outputs": [
    {
     "data": {
      "text/html": [
       "<table>\n",
       "<thead><tr><th scope=col>data</th><th scope=col>z</th></tr></thead>\n",
       "<tbody>\n",
       "\t<tr><td>24</td><td>A </td></tr>\n",
       "\t<tr><td>45</td><td>B </td></tr>\n",
       "\t<tr><td>61</td><td>B </td></tr>\n",
       "\t<tr><td>51</td><td>D </td></tr>\n",
       "\t<tr><td>82</td><td>M </td></tr>\n",
       "</tbody>\n",
       "</table>\n"
      ],
      "text/latex": [
       "\\begin{tabular}{ll}\n",
       " data & z\\\\\n",
       "\\hline\n",
       "\t 24 & A \\\\\n",
       "\t 45 & B \\\\\n",
       "\t 61 & B \\\\\n",
       "\t 51 & D \\\\\n",
       "\t 82 & M \\\\\n",
       "\\end{tabular}\n"
      ],
      "text/markdown": [
       "\n",
       "| data | z |\n",
       "|---|---|\n",
       "| 24 | A  |\n",
       "| 45 | B  |\n",
       "| 61 | B  |\n",
       "| 51 | D  |\n",
       "| 82 | M  |\n",
       "\n"
      ],
      "text/plain": [
       "     data z\n",
       "[1,] 24   A\n",
       "[2,] 45   B\n",
       "[3,] 61   B\n",
       "[4,] 51   D\n",
       "[5,] 82   M"
      ]
     },
     "metadata": {},
     "output_type": "display_data"
    }
   ],
   "source": [
    "data_bb"
   ]
  },
  {
   "cell_type": "code",
   "execution_count": 23,
   "metadata": {},
   "outputs": [
    {
     "data": {
      "text/plain": [
       "   Min. 1st Qu.  Median    Mean 3rd Qu.    Max. \n",
       "   24.0    45.0    51.0    52.6    61.0    82.0 "
      ]
     },
     "metadata": {},
     "output_type": "display_data"
    }
   ],
   "source": [
    "summary(data)"
   ]
  },
  {
   "cell_type": "markdown",
   "metadata": {},
   "source": [
    "Question 2"
   ]
  },
  {
   "cell_type": "code",
   "execution_count": 33,
   "metadata": {},
   "outputs": [],
   "source": [
    "mon <- c(100, 300, 220, 100)\n",
    "tue <- c(30, 20, 90, 20)\n",
    "wed <- c(40, 30, 100, 200)\n",
    "thu <- c(20, 20, 10, 20)\n",
    "fri <- c(100, 150, 70, 90)\n"
   ]
  },
  {
   "cell_type": "code",
   "execution_count": 34,
   "metadata": {},
   "outputs": [],
   "source": [
    "total_sales <- rbind(mon, tue, wed, thu, fri)"
   ]
  },
  {
   "cell_type": "code",
   "execution_count": 35,
   "metadata": {},
   "outputs": [
    {
     "data": {
      "text/html": [
       "<table>\n",
       "<tbody>\n",
       "\t<tr><th scope=row>mon</th><td>100</td><td>300</td><td>220</td><td>100</td></tr>\n",
       "\t<tr><th scope=row>tue</th><td> 30</td><td> 20</td><td> 90</td><td> 20</td></tr>\n",
       "\t<tr><th scope=row>wed</th><td> 40</td><td> 30</td><td>100</td><td>200</td></tr>\n",
       "\t<tr><th scope=row>thu</th><td> 20</td><td> 20</td><td> 10</td><td> 20</td></tr>\n",
       "\t<tr><th scope=row>fri</th><td>100</td><td>150</td><td> 70</td><td> 90</td></tr>\n",
       "</tbody>\n",
       "</table>\n"
      ],
      "text/latex": [
       "\\begin{tabular}{r|llll}\n",
       "\tmon & 100 & 300 & 220 & 100\\\\\n",
       "\ttue &  30 &  20 &  90 &  20\\\\\n",
       "\twed &  40 &  30 & 100 & 200\\\\\n",
       "\tthu &  20 &  20 &  10 &  20\\\\\n",
       "\tfri & 100 & 150 &  70 &  90\\\\\n",
       "\\end{tabular}\n"
      ],
      "text/markdown": [
       "\n",
       "| mon | 100 | 300 | 220 | 100 |\n",
       "| tue |  30 |  20 |  90 |  20 |\n",
       "| wed |  40 |  30 | 100 | 200 |\n",
       "| thu |  20 |  20 |  10 |  20 |\n",
       "| fri | 100 | 150 |  70 |  90 |\n",
       "\n"
      ],
      "text/plain": [
       "    [,1] [,2] [,3] [,4]\n",
       "mon 100  300  220  100 \n",
       "tue  30   20   90   20 \n",
       "wed  40   30  100  200 \n",
       "thu  20   20   10   20 \n",
       "fri 100  150   70   90 "
      ]
     },
     "metadata": {},
     "output_type": "display_data"
    }
   ],
   "source": [
    "total_sales"
   ]
  },
  {
   "cell_type": "code",
   "execution_count": 38,
   "metadata": {},
   "outputs": [],
   "source": [
    "colnames(total_sales) <- c(\"week 1\", \"week 2\", \"week 3\", \"week 4\")"
   ]
  },
  {
   "cell_type": "code",
   "execution_count": 39,
   "metadata": {},
   "outputs": [
    {
     "data": {
      "text/html": [
       "<table>\n",
       "<thead><tr><th></th><th scope=col>week 1</th><th scope=col>week 2</th><th scope=col>week 3</th><th scope=col>week 4</th></tr></thead>\n",
       "<tbody>\n",
       "\t<tr><th scope=row>mon</th><td>100</td><td>300</td><td>220</td><td>100</td></tr>\n",
       "\t<tr><th scope=row>tue</th><td> 30</td><td> 20</td><td> 90</td><td> 20</td></tr>\n",
       "\t<tr><th scope=row>wed</th><td> 40</td><td> 30</td><td>100</td><td>200</td></tr>\n",
       "\t<tr><th scope=row>thu</th><td> 20</td><td> 20</td><td> 10</td><td> 20</td></tr>\n",
       "\t<tr><th scope=row>fri</th><td>100</td><td>150</td><td> 70</td><td> 90</td></tr>\n",
       "</tbody>\n",
       "</table>\n"
      ],
      "text/latex": [
       "\\begin{tabular}{r|llll}\n",
       "  & week 1 & week 2 & week 3 & week 4\\\\\n",
       "\\hline\n",
       "\tmon & 100 & 300 & 220 & 100\\\\\n",
       "\ttue &  30 &  20 &  90 &  20\\\\\n",
       "\twed &  40 &  30 & 100 & 200\\\\\n",
       "\tthu &  20 &  20 &  10 &  20\\\\\n",
       "\tfri & 100 & 150 &  70 &  90\\\\\n",
       "\\end{tabular}\n"
      ],
      "text/markdown": [
       "\n",
       "| <!--/--> | week 1 | week 2 | week 3 | week 4 |\n",
       "|---|---|---|---|---|\n",
       "| mon | 100 | 300 | 220 | 100 |\n",
       "| tue |  30 |  20 |  90 |  20 |\n",
       "| wed |  40 |  30 | 100 | 200 |\n",
       "| thu |  20 |  20 |  10 |  20 |\n",
       "| fri | 100 | 150 |  70 |  90 |\n",
       "\n"
      ],
      "text/plain": [
       "    week 1 week 2 week 3 week 4\n",
       "mon 100    300    220    100   \n",
       "tue  30     20     90     20   \n",
       "wed  40     30    100    200   \n",
       "thu  20     20     10     20   \n",
       "fri 100    150     70     90   "
      ]
     },
     "metadata": {},
     "output_type": "display_data"
    }
   ],
   "source": [
    "total_sales"
   ]
  },
  {
   "cell_type": "code",
   "execution_count": 45,
   "metadata": {},
   "outputs": [
    {
     "data": {
      "text/html": [
       "<dl class=dl-horizontal>\n",
       "\t<dt>week 1</dt>\n",
       "\t\t<dd>290</dd>\n",
       "\t<dt>week 2</dt>\n",
       "\t\t<dd>520</dd>\n",
       "\t<dt>week 3</dt>\n",
       "\t\t<dd>490</dd>\n",
       "\t<dt>week 4</dt>\n",
       "\t\t<dd>430</dd>\n",
       "</dl>\n"
      ],
      "text/latex": [
       "\\begin{description*}\n",
       "\\item[week 1] 290\n",
       "\\item[week 2] 520\n",
       "\\item[week 3] 490\n",
       "\\item[week 4] 430\n",
       "\\end{description*}\n"
      ],
      "text/markdown": [
       "week 1\n",
       ":   290week 2\n",
       ":   520week 3\n",
       ":   490week 4\n",
       ":   430\n",
       "\n"
      ],
      "text/plain": [
       "week 1 week 2 week 3 week 4 \n",
       "   290    520    490    430 "
      ]
     },
     "metadata": {},
     "output_type": "display_data"
    }
   ],
   "source": [
    "colSums(total_sales)"
   ]
  },
  {
   "cell_type": "markdown",
   "metadata": {},
   "source": [
    "Question 3"
   ]
  },
  {
   "cell_type": "code",
   "execution_count": 46,
   "metadata": {},
   "outputs": [],
   "source": [
    "height <- matrix(cbind(175, 165, 150, 155, 168, 153, 165, 177, 180, 164, 150))\n",
    "weight <- matrix(cbind(80, 85, 50, 55, 63, 45, 74, 90, 86, 74, 53))\n",
    "hours <- matrix(cbind(8, 7, 12, 10, 9, 7, 6, 7, 8, 8, 11))"
   ]
  },
  {
   "cell_type": "code",
   "execution_count": 47,
   "metadata": {},
   "outputs": [],
   "source": [
    "bmi_df <- data.frame(\n",
    "height,\n",
    "weight,\n",
    "hours,\n",
    "bmi = round((weight / (((height / 100) ^ 2))), 4))"
   ]
  },
  {
   "cell_type": "code",
   "execution_count": 48,
   "metadata": {},
   "outputs": [
    {
     "data": {
      "text/html": [
       "<table>\n",
       "<thead><tr><th scope=col>height</th><th scope=col>weight</th><th scope=col>hours</th><th scope=col>bmi</th></tr></thead>\n",
       "<tbody>\n",
       "\t<tr><td>175    </td><td>80     </td><td> 8     </td><td>26.1224</td></tr>\n",
       "\t<tr><td>165    </td><td>85     </td><td> 7     </td><td>31.2213</td></tr>\n",
       "\t<tr><td>150    </td><td>50     </td><td>12     </td><td>22.2222</td></tr>\n",
       "\t<tr><td>155    </td><td>55     </td><td>10     </td><td>22.8928</td></tr>\n",
       "\t<tr><td>168    </td><td>63     </td><td> 9     </td><td>22.3214</td></tr>\n",
       "\t<tr><td>153    </td><td>45     </td><td> 7     </td><td>19.2234</td></tr>\n",
       "\t<tr><td>165    </td><td>74     </td><td> 6     </td><td>27.1809</td></tr>\n",
       "\t<tr><td>177    </td><td>90     </td><td> 7     </td><td>28.7274</td></tr>\n",
       "\t<tr><td>180    </td><td>86     </td><td> 8     </td><td>26.5432</td></tr>\n",
       "\t<tr><td>164    </td><td>74     </td><td> 8     </td><td>27.5134</td></tr>\n",
       "\t<tr><td>150    </td><td>53     </td><td>11     </td><td>23.5556</td></tr>\n",
       "</tbody>\n",
       "</table>\n"
      ],
      "text/latex": [
       "\\begin{tabular}{r|llll}\n",
       " height & weight & hours & bmi\\\\\n",
       "\\hline\n",
       "\t 175     & 80      &  8      & 26.1224\\\\\n",
       "\t 165     & 85      &  7      & 31.2213\\\\\n",
       "\t 150     & 50      & 12      & 22.2222\\\\\n",
       "\t 155     & 55      & 10      & 22.8928\\\\\n",
       "\t 168     & 63      &  9      & 22.3214\\\\\n",
       "\t 153     & 45      &  7      & 19.2234\\\\\n",
       "\t 165     & 74      &  6      & 27.1809\\\\\n",
       "\t 177     & 90      &  7      & 28.7274\\\\\n",
       "\t 180     & 86      &  8      & 26.5432\\\\\n",
       "\t 164     & 74      &  8      & 27.5134\\\\\n",
       "\t 150     & 53      & 11      & 23.5556\\\\\n",
       "\\end{tabular}\n"
      ],
      "text/markdown": [
       "\n",
       "| height | weight | hours | bmi |\n",
       "|---|---|---|---|\n",
       "| 175     | 80      |  8      | 26.1224 |\n",
       "| 165     | 85      |  7      | 31.2213 |\n",
       "| 150     | 50      | 12      | 22.2222 |\n",
       "| 155     | 55      | 10      | 22.8928 |\n",
       "| 168     | 63      |  9      | 22.3214 |\n",
       "| 153     | 45      |  7      | 19.2234 |\n",
       "| 165     | 74      |  6      | 27.1809 |\n",
       "| 177     | 90      |  7      | 28.7274 |\n",
       "| 180     | 86      |  8      | 26.5432 |\n",
       "| 164     | 74      |  8      | 27.5134 |\n",
       "| 150     | 53      | 11      | 23.5556 |\n",
       "\n"
      ],
      "text/plain": [
       "   height weight hours bmi    \n",
       "1  175    80      8    26.1224\n",
       "2  165    85      7    31.2213\n",
       "3  150    50     12    22.2222\n",
       "4  155    55     10    22.8928\n",
       "5  168    63      9    22.3214\n",
       "6  153    45      7    19.2234\n",
       "7  165    74      6    27.1809\n",
       "8  177    90      7    28.7274\n",
       "9  180    86      8    26.5432\n",
       "10 164    74      8    27.5134\n",
       "11 150    53     11    23.5556"
      ]
     },
     "metadata": {},
     "output_type": "display_data"
    }
   ],
   "source": [
    "bmi_df"
   ]
  },
  {
   "cell_type": "code",
   "execution_count": null,
   "metadata": {},
   "outputs": [],
   "source": []
  }
 ],
 "metadata": {
  "kernelspec": {
   "display_name": "R",
   "language": "R",
   "name": "python3812jvsc74a57bd0f061cc7ac73d0c3a0547232dedc70a315866e232463552a237d6390eda146b86"
  },
  "language_info": {
   "codemirror_mode": "r",
   "file_extension": ".r",
   "mimetype": "text/x-r-source",
   "name": "R",
   "pygments_lexer": "r",
   "version": "3.6.3"
  },
  "orig_nbformat": 4
 },
 "nbformat": 4,
 "nbformat_minor": 2
}
